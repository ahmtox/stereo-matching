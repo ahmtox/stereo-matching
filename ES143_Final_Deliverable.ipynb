{
  "nbformat": 4,
  "nbformat_minor": 0,
  "metadata": {
    "colab": {
      "provenance": [],
      "authorship_tag": "ABX9TyNz87s16nN7wx6cVWmwl56d",
      "include_colab_link": true
    },
    "kernelspec": {
      "name": "python3",
      "display_name": "Python 3"
    },
    "language_info": {
      "name": "python"
    }
  },
  "cells": [
    {
      "cell_type": "markdown",
      "metadata": {
        "id": "view-in-github",
        "colab_type": "text"
      },
      "source": [
        "<a href=\"https://colab.research.google.com/github/ahmtox/stereo-matching/blob/main/ES143_Final_Deliverable.ipynb\" target=\"_parent\"><img src=\"https://colab.research.google.com/assets/colab-badge.svg\" alt=\"Open In Colab\"/></a>"
      ]
    },
    {
      "cell_type": "markdown",
      "source": [
        "# Introduction"
      ],
      "metadata": {
        "id": "FNe8i4X0qHHt"
      }
    },
    {
      "cell_type": "code",
      "source": [
        "import os\n",
        "import sys\n",
        "\n",
        "IN_COLAB = 'google.colab' in sys.modules\n",
        "\n",
        "if IN_COLAB:\n",
        "  print('Running on Colab... Preparing to mount Google Drive')\n",
        "  from google.colab import drive\n",
        "  drive.mount('/content/drive')\n",
        "\n",
        "  !apt-get install git\n",
        "  !pip install pupil-apriltags\n",
        "  !git clone https://github.com/ahmtox/stereo-matching.git\n",
        "  !pip install boto3\n",
        "\n",
        "  sys.path.append('/content/stereo-matching')\n",
        "\n",
        "  print('Google Drive mounted at /content/drive')\n",
        "else:\n",
        "  print('Not running on Google Colab.')\n"
      ],
      "metadata": {
        "id": "9EduFUkUqLNr"
      },
      "execution_count": null,
      "outputs": []
    },
    {
      "cell_type": "code",
      "source": [
        "import boto3\n",
        "import botocore\n",
        "import numpy as np\n",
        "import matplotlib.pyplot as plt\n",
        "import cv2\n",
        "from camera_calibration import CameraCalibration\n",
        "from stereogram_generator import StereogramGenerator\n",
        "from stereo_calibration import stereo_calibrate"
      ],
      "metadata": {
        "id": "i4_Nv6YltBDd"
      },
      "execution_count": null,
      "outputs": []
    },
    {
      "cell_type": "markdown",
      "source": [
        "# Dataset Capture and Load"
      ],
      "metadata": {
        "id": "_Jf5HtTOpbqC"
      }
    },
    {
      "cell_type": "code",
      "source": [
        "session = boto3.Session()\n",
        "\n",
        "s3 = session.client('s3', config=boto3.session.Config(signature_version=botocore.UNSIGNED))\n",
        "\n",
        "def download_files(bucket_name, local_directory):\n",
        "    if not os.path.exists(local_directory):\n",
        "        os.makedirs(local_directory)\n",
        "\n",
        "    response = s3.list_objects_v2(Bucket=bucket_name)\n",
        "\n",
        "    while True:\n",
        "        for item in response.get('Contents', []):\n",
        "            key = item['Key']\n",
        "            local_file_path = os.path.join(local_directory, key)\n",
        "\n",
        "            os.makedirs(os.path.dirname(local_file_path), exist_ok=True)\n",
        "\n",
        "            s3.download_file(bucket_name, key, local_file_path)\n",
        "            print(f\"Downloaded {key} to {local_file_path}\")\n",
        "\n",
        "        if response['IsTruncated']:\n",
        "            response = s3.list_objects_v2(Bucket=bucket_name, ContinuationToken=response['NextContinuationToken'])\n",
        "        else:\n",
        "            break\n",
        "\n",
        "bucket_name = 'es143-stereo-matching'\n",
        "local_directory = './'\n",
        "\n",
        "download_files(bucket_name, local_directory)"
      ],
      "metadata": {
        "id": "N6JwJdMaqMqK"
      },
      "execution_count": null,
      "outputs": []
    },
    {
      "cell_type": "code",
      "source": [
        "imgL_path = './camera_left_final/IMG_3625.jpeg'\n",
        "imgR_path = './camera_right_final/IMG_4206.jpeg'\n",
        "calib_left_camera_filepath = './camera_left_final/calibration/calibration_*.jpeg'\n",
        "calib_right_camera_filepath = './camera_right_final/calibration/calibration_*.jpeg'"
      ],
      "metadata": {
        "id": "ids2op2LtS0P"
      },
      "execution_count": null,
      "outputs": []
    },
    {
      "cell_type": "code",
      "source": [
        "imgL = cv2.imread(imgL_path)\n",
        "imgR = cv2.imread(imgR_path)\n",
        "\n",
        "imgL = cv2.cvtColor(imgL, cv2.COLOR_BGR2RGB)\n",
        "imgR = cv2.cvtColor(imgR, cv2.COLOR_BGR2RGB)\n",
        "\n",
        "\n",
        "fig, ax = plt.subplots(1, 2, figsize=(10, 5))\n",
        "\n",
        "ax[0].imshow(imgL)\n",
        "ax[0].set_title('Left Image')\n",
        "ax[0].axis('off')\n",
        "\n",
        "\n",
        "ax[1].imshow(imgR)\n",
        "ax[1].set_title('Right Image')\n",
        "ax[1].axis('off')\n",
        "\n",
        "plt.show()"
      ],
      "metadata": {
        "id": "14G5b2dZtcLM"
      },
      "execution_count": null,
      "outputs": []
    },
    {
      "cell_type": "markdown",
      "source": [
        "# Camera Calibration"
      ],
      "metadata": {
        "id": "Wg2skDabpg_O"
      }
    },
    {
      "cell_type": "code",
      "source": [
        "left_cc = CameraCalibration()\n",
        "reprojerr_L, calMatrix_L, distCoeffs_L, calRotations_L, calTranslations_L, extrinsic_matrices_L, calObjPoints_L, calImgPoints_L = left_cc.calibrate_camera(calib_left_camera_filepath, True)"
      ],
      "metadata": {
        "id": "ICd1wmeBqNEC"
      },
      "execution_count": null,
      "outputs": []
    },
    {
      "cell_type": "code",
      "source": [
        "right_cc = CameraCalibration()\n",
        "reprojerr_R, calMatrix_R, distCoeffs_R, calRotations_R, calTranslations_R, extrinsic_matrices_R, calObjPoints_R, calImgPoints_R = right_cc.calibrate_camera(calib_right_camera_filepath, True)"
      ],
      "metadata": {
        "id": "KX91BNSftkeq"
      },
      "execution_count": null,
      "outputs": []
    },
    {
      "cell_type": "code",
      "source": [
        "print(\"Number of object point sets:\", len(calObjPoints_L))\n",
        "print(\"Number of image point sets in left images:\", len(calImgPoints_L))\n",
        "print(\"Number of image point sets in right images:\", len(calImgPoints_R))\n",
        "\n",
        "print(\"Object points per set:\", [len(pts) for pts in calObjPoints_L])\n",
        "print(\"Image points in left per set:\", [len(pts) for pts in calImgPoints_L])\n",
        "print(\"Image points in right per set:\", [len(pts) for pts in calImgPoints_R])\n"
      ],
      "metadata": {
        "id": "ld4RaDiVtpEV"
      },
      "execution_count": null,
      "outputs": []
    },
    {
      "cell_type": "markdown",
      "source": [
        "# Stereo Rectification"
      ],
      "metadata": {
        "id": "1ujQfgiopkT6"
      }
    },
    {
      "cell_type": "code",
      "source": [
        "img_shape = (imgR.shape[0], imgR.shape[1])\n",
        "\n",
        "flags = cv2.CALIB_RATIONAL_MODEL\n",
        "criteria = (cv2.TERM_CRITERIA_EPS + cv2.TERM_CRITERIA_MAX_ITER, 1000, 1e-5)\n",
        "retval, cameraMatrix1, distCoeffs1, cameraMatrix2, distCoeffs2, R, T, E, F = cv2.stereoCalibrate(\n",
        "        calObjPoints_L, calImgPoints_L, calImgPoints_R, calMatrix_L, distCoeffs_L, calMatrix_R, distCoeffs_R, img_shape,\n",
        "        criteria=criteria, flags=flags)"
      ],
      "metadata": {
        "id": "uc8W5ac9qNUW"
      },
      "execution_count": null,
      "outputs": []
    },
    {
      "cell_type": "code",
      "source": [
        "print('R:\\n', R, '\\n')\n",
        "print('T:\\n', T, '\\n')\n",
        "print('E:\\n', E, '\\n')\n",
        "print('F:\\n', F, '\\n')\n"
      ],
      "metadata": {
        "id": "L2lhrtNPtuuI"
      },
      "execution_count": null,
      "outputs": []
    },
    {
      "cell_type": "code",
      "source": [
        "R1, R2, P1, P2, Q, roi_left, roi_right = cv2.stereoRectify(cameraMatrix1, distCoeffs1, cameraMatrix2, distCoeffs2, imgR.shape[:2], R, T)\n",
        "\n",
        "map1x, map1y = cv2.initUndistortRectifyMap(cameraMatrix1, distCoeffs1, R1, P1, imgL.shape[:2], cv2.CV_32FC1)\n",
        "map2x, map2y = cv2.initUndistortRectifyMap(cameraMatrix2, distCoeffs2, R2, P2, imgR.shape[:2], cv2.CV_32FC1)\n",
        "\n",
        "rectified_imgL = cv2.remap(imgL, map1x, map1y, cv2.INTER_LINEAR)\n",
        "rectified_imgR = cv2.remap(imgR, map2x, map2y, cv2.INTER_LINEAR)\n"
      ],
      "metadata": {
        "id": "JQi9Byjpt5Ue"
      },
      "execution_count": null,
      "outputs": []
    },
    {
      "cell_type": "markdown",
      "source": [
        "# Stereo Rectification Visualization"
      ],
      "metadata": {
        "id": "Cz5NPuDnpmQo"
      }
    },
    {
      "cell_type": "code",
      "source": [
        "fig, ax = plt.subplots(1, 2, figsize=(10, 5))\n",
        "\n",
        "ax[0].imshow(rectified_imgL)\n",
        "ax[0].set_title('Rectified Left')\n",
        "ax[0].axis('off')\n",
        "\n",
        "ax[1].imshow(rectified_imgR)\n",
        "ax[1].set_title('Rectified Right')\n",
        "ax[1].axis('off')\n",
        "\n",
        "plt.show()"
      ],
      "metadata": {
        "id": "e6H0hctIqNnn"
      },
      "execution_count": null,
      "outputs": []
    },
    {
      "cell_type": "code",
      "source": [
        "def plot_epipolar_lines(image, epilines, ax, color='r'):\n",
        "    height, width = image.shape[:2]\n",
        "\n",
        "\n",
        "    for r in epilines:\n",
        "        x0, y0 = 0, int(-r[2] / r[1])\n",
        "        x1, y1 = width, int(-(r[2] + r[0] * width) / r[1])\n",
        "\n",
        "        ax.plot([x0, x1], [y0, y1], color)\n",
        "\n",
        "\n",
        "points_left = np.array([\n",
        "    [2800, 1650],\n",
        "    [680, 2650],\n",
        "    [1780, 1200],\n",
        "], dtype=np.float32)\n",
        "\n",
        "points_left_hom = np.hstack([points_left, np.ones((points_left.shape[0], 1))])\n",
        "\n",
        "epilines_right = cv2.computeCorrespondEpilines(points_left_hom, 2, F).reshape(-1, 3)\n",
        "\n",
        "fig, ax = plt.subplots(1, 2, figsize=(10, 5))\n",
        "\n",
        "ax[0].imshow(rectified_imgL)\n",
        "ax[0].scatter(points_left[:, 0], points_left[:, 1], c='b', marker='o')\n",
        "ax[0].set_title('Rectified Left with Selected Points')\n",
        "ax[0].axis('off')\n",
        "\n",
        "ax[1].imshow(rectified_imgR)\n",
        "plot_epipolar_lines(rectified_imgR, epilines_right, ax[1])\n",
        "ax[1].set_title('Rectified Right with Epipolar Lines')\n",
        "ax[1].axis('off')\n",
        "\n",
        "plt.show()"
      ],
      "metadata": {
        "id": "Lxnj2JdouCER"
      },
      "execution_count": null,
      "outputs": []
    },
    {
      "cell_type": "code",
      "source": [
        "points_right = np.array([\n",
        "    [1900, 1650],\n",
        "    [150, 2650],\n",
        "    [1200, 1100],\n",
        "], dtype=np.float32)\n",
        "\n",
        "points_right_hom = np.hstack([points_right, np.ones((points_right.shape[0], 1))])\n",
        "\n",
        "epilines_left = cv2.computeCorrespondEpilines(points_right_hom, 1, F).reshape(-1, 3)\n",
        "\n",
        "fig, ax = plt.subplots(1, 2, figsize=(10, 5))\n",
        "\n",
        "ax[0].imshow(rectified_imgL)\n",
        "plot_epipolar_lines(rectified_imgL, epilines_left, ax[0])\n",
        "ax[0].set_title('Rectified Left with Epipolar Lines')\n",
        "ax[0].axis('off')\n",
        "\n",
        "ax[1].imshow(rectified_imgR)\n",
        "ax[1].scatter(points_right[:, 0], points_right[:, 1], c='b', marker='o')\n",
        "ax[1].set_title('Rectified Right with Selected Points')\n",
        "ax[1].axis('off')\n",
        "\n",
        "plt.show()"
      ],
      "metadata": {
        "id": "XUL1u8wOuER1"
      },
      "execution_count": null,
      "outputs": []
    },
    {
      "cell_type": "markdown",
      "source": [
        "# Winner-take-all Part 1"
      ],
      "metadata": {
        "id": "1rFF5Hu0ppWj"
      }
    },
    {
      "cell_type": "code",
      "source": [],
      "metadata": {
        "id": "EzoLwSt5qOB7"
      },
      "execution_count": null,
      "outputs": []
    },
    {
      "cell_type": "markdown",
      "source": [
        "# Winner-take-all Part 2"
      ],
      "metadata": {
        "id": "Mqt7NvY_pyhw"
      }
    },
    {
      "cell_type": "code",
      "source": [],
      "metadata": {
        "id": "FvLlcsibqOTr"
      },
      "execution_count": null,
      "outputs": []
    },
    {
      "cell_type": "markdown",
      "source": [
        "# Dynamic Programming"
      ],
      "metadata": {
        "id": "zMY7b0G_p33X"
      }
    },
    {
      "cell_type": "code",
      "source": [],
      "metadata": {
        "id": "MKNY2fnwqPMy"
      },
      "execution_count": null,
      "outputs": []
    },
    {
      "cell_type": "markdown",
      "source": [
        "# Third Party Dense Stereo Matching Algorithm w/o Neural Network"
      ],
      "metadata": {
        "id": "YgXCu2nSp5o0"
      }
    },
    {
      "cell_type": "code",
      "source": [],
      "metadata": {
        "id": "21SPV934qPh6"
      },
      "execution_count": null,
      "outputs": []
    },
    {
      "cell_type": "markdown",
      "source": [
        "# Third Party Dense Stereo Matching Algorithm w/ Neural Network"
      ],
      "metadata": {
        "id": "yPKM4y3IqAQA"
      }
    },
    {
      "cell_type": "code",
      "source": [],
      "metadata": {
        "id": "GQqdNwkOqQL3"
      },
      "execution_count": null,
      "outputs": []
    }
  ]
}