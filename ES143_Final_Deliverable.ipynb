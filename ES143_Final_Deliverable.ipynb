{
  "nbformat": 4,
  "nbformat_minor": 0,
  "metadata": {
    "colab": {
      "provenance": [],
      "authorship_tag": "ABX9TyPnVQpy59Ry5Z+NiAj7nMD+",
      "include_colab_link": true
    },
    "kernelspec": {
      "name": "python3",
      "display_name": "Python 3"
    },
    "language_info": {
      "name": "python"
    }
  },
  "cells": [
    {
      "cell_type": "markdown",
      "metadata": {
        "id": "view-in-github",
        "colab_type": "text"
      },
      "source": [
        "<a href=\"https://colab.research.google.com/github/ahmtox/stereo-matching/blob/main/ES143_Final_Deliverable.ipynb\" target=\"_parent\"><img src=\"https://colab.research.google.com/assets/colab-badge.svg\" alt=\"Open In Colab\"/></a>"
      ]
    },
    {
      "cell_type": "markdown",
      "source": [
        "# Introduction"
      ],
      "metadata": {
        "id": "FNe8i4X0qHHt"
      }
    },
    {
      "cell_type": "code",
      "source": [],
      "metadata": {
        "id": "9EduFUkUqLNr"
      },
      "execution_count": null,
      "outputs": []
    },
    {
      "cell_type": "markdown",
      "source": [
        "# Dataset Capture and Load"
      ],
      "metadata": {
        "id": "_Jf5HtTOpbqC"
      }
    },
    {
      "cell_type": "code",
      "source": [],
      "metadata": {
        "id": "N6JwJdMaqMqK"
      },
      "execution_count": null,
      "outputs": []
    },
    {
      "cell_type": "markdown",
      "source": [
        "# Camera Calibration"
      ],
      "metadata": {
        "id": "Wg2skDabpg_O"
      }
    },
    {
      "cell_type": "code",
      "source": [],
      "metadata": {
        "id": "ICd1wmeBqNEC"
      },
      "execution_count": null,
      "outputs": []
    },
    {
      "cell_type": "markdown",
      "source": [
        "# Stereo Rectification"
      ],
      "metadata": {
        "id": "1ujQfgiopkT6"
      }
    },
    {
      "cell_type": "code",
      "source": [],
      "metadata": {
        "id": "uc8W5ac9qNUW"
      },
      "execution_count": null,
      "outputs": []
    },
    {
      "cell_type": "markdown",
      "source": [
        "# Stereo Rectification Visualization"
      ],
      "metadata": {
        "id": "Cz5NPuDnpmQo"
      }
    },
    {
      "cell_type": "code",
      "source": [],
      "metadata": {
        "id": "e6H0hctIqNnn"
      },
      "execution_count": null,
      "outputs": []
    },
    {
      "cell_type": "markdown",
      "source": [
        "# Winner-take-all Part 1"
      ],
      "metadata": {
        "id": "1rFF5Hu0ppWj"
      }
    },
    {
      "cell_type": "code",
      "source": [],
      "metadata": {
        "id": "EzoLwSt5qOB7"
      },
      "execution_count": null,
      "outputs": []
    },
    {
      "cell_type": "markdown",
      "source": [
        "# Winner-take-all Part 2"
      ],
      "metadata": {
        "id": "Mqt7NvY_pyhw"
      }
    },
    {
      "cell_type": "code",
      "source": [],
      "metadata": {
        "id": "FvLlcsibqOTr"
      },
      "execution_count": null,
      "outputs": []
    },
    {
      "cell_type": "markdown",
      "source": [
        "# Dynamic Programming"
      ],
      "metadata": {
        "id": "zMY7b0G_p33X"
      }
    },
    {
      "cell_type": "code",
      "source": [],
      "metadata": {
        "id": "MKNY2fnwqPMy"
      },
      "execution_count": null,
      "outputs": []
    },
    {
      "cell_type": "markdown",
      "source": [
        "# Third Party Dense Stereo Matching Algorithm w/o Neural Network"
      ],
      "metadata": {
        "id": "YgXCu2nSp5o0"
      }
    },
    {
      "cell_type": "code",
      "source": [],
      "metadata": {
        "id": "21SPV934qPh6"
      },
      "execution_count": null,
      "outputs": []
    },
    {
      "cell_type": "markdown",
      "source": [
        "# Third Party Dense Stereo Matching Algorithm w/ Neural Network"
      ],
      "metadata": {
        "id": "yPKM4y3IqAQA"
      }
    },
    {
      "cell_type": "code",
      "source": [],
      "metadata": {
        "id": "GQqdNwkOqQL3"
      },
      "execution_count": null,
      "outputs": []
    }
  ]
}